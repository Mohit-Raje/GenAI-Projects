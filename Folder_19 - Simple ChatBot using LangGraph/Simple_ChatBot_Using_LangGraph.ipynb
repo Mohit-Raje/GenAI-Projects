{
  "nbformat": 4,
  "nbformat_minor": 0,
  "metadata": {
    "colab": {
      "provenance": []
    },
    "kernelspec": {
      "name": "python3",
      "display_name": "Python 3"
    },
    "language_info": {
      "name": "python"
    }
  },
  "cells": [
    {
      "cell_type": "code",
      "source": [
        "!pip install langchain langsmith langgraph"
      ],
      "metadata": {
        "colab": {
          "base_uri": "https://localhost:8080/"
        },
        "id": "tb8fHLa6gmhP",
        "outputId": "f93b9b5b-512c-4319-cb6b-b3e9dece2920"
      },
      "execution_count": 20,
      "outputs": [
        {
          "output_type": "stream",
          "name": "stdout",
          "text": [
            "Requirement already satisfied: langchain in /usr/local/lib/python3.10/dist-packages (0.3.14)\n",
            "Requirement already satisfied: langsmith in /usr/local/lib/python3.10/dist-packages (0.2.3)\n",
            "Collecting langgraph\n",
            "  Downloading langgraph-0.2.61-py3-none-any.whl.metadata (15 kB)\n",
            "Requirement already satisfied: PyYAML>=5.3 in /usr/local/lib/python3.10/dist-packages (from langchain) (6.0.2)\n",
            "Requirement already satisfied: SQLAlchemy<3,>=1.4 in /usr/local/lib/python3.10/dist-packages (from langchain) (2.0.36)\n",
            "Requirement already satisfied: aiohttp<4.0.0,>=3.8.3 in /usr/local/lib/python3.10/dist-packages (from langchain) (3.11.10)\n",
            "Requirement already satisfied: async-timeout<5.0.0,>=4.0.0 in /usr/local/lib/python3.10/dist-packages (from langchain) (4.0.3)\n",
            "Requirement already satisfied: langchain-core<0.4.0,>=0.3.29 in /usr/local/lib/python3.10/dist-packages (from langchain) (0.3.29)\n",
            "Requirement already satisfied: langchain-text-splitters<0.4.0,>=0.3.3 in /usr/local/lib/python3.10/dist-packages (from langchain) (0.3.3)\n",
            "Requirement already satisfied: numpy<2,>=1.22.4 in /usr/local/lib/python3.10/dist-packages (from langchain) (1.26.4)\n",
            "Requirement already satisfied: pydantic<3.0.0,>=2.7.4 in /usr/local/lib/python3.10/dist-packages (from langchain) (2.10.3)\n",
            "Requirement already satisfied: requests<3,>=2 in /usr/local/lib/python3.10/dist-packages (from langchain) (2.32.3)\n",
            "Requirement already satisfied: tenacity!=8.4.0,<10,>=8.1.0 in /usr/local/lib/python3.10/dist-packages (from langchain) (9.0.0)\n",
            "Requirement already satisfied: httpx<1,>=0.23.0 in /usr/local/lib/python3.10/dist-packages (from langsmith) (0.28.1)\n",
            "Requirement already satisfied: orjson<4.0.0,>=3.9.14 in /usr/local/lib/python3.10/dist-packages (from langsmith) (3.10.12)\n",
            "Requirement already satisfied: requests-toolbelt<2.0.0,>=1.0.0 in /usr/local/lib/python3.10/dist-packages (from langsmith) (1.0.0)\n",
            "Collecting langgraph-checkpoint<3.0.0,>=2.0.4 (from langgraph)\n",
            "  Downloading langgraph_checkpoint-2.0.9-py3-none-any.whl.metadata (4.6 kB)\n",
            "Collecting langgraph-sdk<0.2.0,>=0.1.42 (from langgraph)\n",
            "  Downloading langgraph_sdk-0.1.48-py3-none-any.whl.metadata (1.8 kB)\n",
            "Requirement already satisfied: aiohappyeyeballs>=2.3.0 in /usr/local/lib/python3.10/dist-packages (from aiohttp<4.0.0,>=3.8.3->langchain) (2.4.4)\n",
            "Requirement already satisfied: aiosignal>=1.1.2 in /usr/local/lib/python3.10/dist-packages (from aiohttp<4.0.0,>=3.8.3->langchain) (1.3.2)\n",
            "Requirement already satisfied: attrs>=17.3.0 in /usr/local/lib/python3.10/dist-packages (from aiohttp<4.0.0,>=3.8.3->langchain) (24.3.0)\n",
            "Requirement already satisfied: frozenlist>=1.1.1 in /usr/local/lib/python3.10/dist-packages (from aiohttp<4.0.0,>=3.8.3->langchain) (1.5.0)\n",
            "Requirement already satisfied: multidict<7.0,>=4.5 in /usr/local/lib/python3.10/dist-packages (from aiohttp<4.0.0,>=3.8.3->langchain) (6.1.0)\n",
            "Requirement already satisfied: propcache>=0.2.0 in /usr/local/lib/python3.10/dist-packages (from aiohttp<4.0.0,>=3.8.3->langchain) (0.2.1)\n",
            "Requirement already satisfied: yarl<2.0,>=1.17.0 in /usr/local/lib/python3.10/dist-packages (from aiohttp<4.0.0,>=3.8.3->langchain) (1.18.3)\n",
            "Requirement already satisfied: anyio in /usr/local/lib/python3.10/dist-packages (from httpx<1,>=0.23.0->langsmith) (3.7.1)\n",
            "Requirement already satisfied: certifi in /usr/local/lib/python3.10/dist-packages (from httpx<1,>=0.23.0->langsmith) (2024.12.14)\n",
            "Requirement already satisfied: httpcore==1.* in /usr/local/lib/python3.10/dist-packages (from httpx<1,>=0.23.0->langsmith) (1.0.7)\n",
            "Requirement already satisfied: idna in /usr/local/lib/python3.10/dist-packages (from httpx<1,>=0.23.0->langsmith) (3.10)\n",
            "Requirement already satisfied: h11<0.15,>=0.13 in /usr/local/lib/python3.10/dist-packages (from httpcore==1.*->httpx<1,>=0.23.0->langsmith) (0.14.0)\n",
            "Requirement already satisfied: jsonpatch<2.0,>=1.33 in /usr/local/lib/python3.10/dist-packages (from langchain-core<0.4.0,>=0.3.29->langchain) (1.33)\n",
            "Requirement already satisfied: packaging<25,>=23.2 in /usr/local/lib/python3.10/dist-packages (from langchain-core<0.4.0,>=0.3.29->langchain) (24.2)\n",
            "Requirement already satisfied: typing-extensions>=4.7 in /usr/local/lib/python3.10/dist-packages (from langchain-core<0.4.0,>=0.3.29->langchain) (4.12.2)\n",
            "Requirement already satisfied: msgpack<2.0.0,>=1.1.0 in /usr/local/lib/python3.10/dist-packages (from langgraph-checkpoint<3.0.0,>=2.0.4->langgraph) (1.1.0)\n",
            "Requirement already satisfied: annotated-types>=0.6.0 in /usr/local/lib/python3.10/dist-packages (from pydantic<3.0.0,>=2.7.4->langchain) (0.7.0)\n",
            "Requirement already satisfied: pydantic-core==2.27.1 in /usr/local/lib/python3.10/dist-packages (from pydantic<3.0.0,>=2.7.4->langchain) (2.27.1)\n",
            "Requirement already satisfied: charset-normalizer<4,>=2 in /usr/local/lib/python3.10/dist-packages (from requests<3,>=2->langchain) (3.4.0)\n",
            "Requirement already satisfied: urllib3<3,>=1.21.1 in /usr/local/lib/python3.10/dist-packages (from requests<3,>=2->langchain) (2.2.3)\n",
            "Requirement already satisfied: greenlet!=0.4.17 in /usr/local/lib/python3.10/dist-packages (from SQLAlchemy<3,>=1.4->langchain) (3.1.1)\n",
            "Requirement already satisfied: jsonpointer>=1.9 in /usr/local/lib/python3.10/dist-packages (from jsonpatch<2.0,>=1.33->langchain-core<0.4.0,>=0.3.29->langchain) (3.0.0)\n",
            "Requirement already satisfied: sniffio>=1.1 in /usr/local/lib/python3.10/dist-packages (from anyio->httpx<1,>=0.23.0->langsmith) (1.3.1)\n",
            "Requirement already satisfied: exceptiongroup in /usr/local/lib/python3.10/dist-packages (from anyio->httpx<1,>=0.23.0->langsmith) (1.2.2)\n",
            "Downloading langgraph-0.2.61-py3-none-any.whl (137 kB)\n",
            "\u001b[2K   \u001b[90m━━━━━━━━━━━━━━━━━━━━━━━━━━━━━━━━━━━━━━━━\u001b[0m \u001b[32m137.2/137.2 kB\u001b[0m \u001b[31m3.9 MB/s\u001b[0m eta \u001b[36m0:00:00\u001b[0m\n",
            "\u001b[?25hDownloading langgraph_checkpoint-2.0.9-py3-none-any.whl (37 kB)\n",
            "Downloading langgraph_sdk-0.1.48-py3-none-any.whl (43 kB)\n",
            "\u001b[2K   \u001b[90m━━━━━━━━━━━━━━━━━━━━━━━━━━━━━━━━━━━━━━━━\u001b[0m \u001b[32m43.7/43.7 kB\u001b[0m \u001b[31m3.3 MB/s\u001b[0m eta \u001b[36m0:00:00\u001b[0m\n",
            "\u001b[?25hInstalling collected packages: langgraph-sdk, langgraph-checkpoint, langgraph\n",
            "Successfully installed langgraph-0.2.61 langgraph-checkpoint-2.0.9 langgraph-sdk-0.1.48\n"
          ]
        }
      ]
    },
    {
      "cell_type": "code",
      "source": [
        "!pip install langchain langchain_groq langchain_community"
      ],
      "metadata": {
        "colab": {
          "base_uri": "https://localhost:8080/"
        },
        "id": "7AxJqPhPg6Z5",
        "outputId": "b80b82cd-3c07-4fd8-d695-fbae47fa5694"
      },
      "execution_count": 17,
      "outputs": [
        {
          "output_type": "stream",
          "name": "stdout",
          "text": [
            "Requirement already satisfied: langchain in /usr/local/lib/python3.10/dist-packages (0.3.14)\n",
            "Requirement already satisfied: langchain_groq in /usr/local/lib/python3.10/dist-packages (0.2.2)\n",
            "Requirement already satisfied: langchain_community in /usr/local/lib/python3.10/dist-packages (0.3.14)\n",
            "Requirement already satisfied: PyYAML>=5.3 in /usr/local/lib/python3.10/dist-packages (from langchain) (6.0.2)\n",
            "Requirement already satisfied: SQLAlchemy<3,>=1.4 in /usr/local/lib/python3.10/dist-packages (from langchain) (2.0.36)\n",
            "Requirement already satisfied: aiohttp<4.0.0,>=3.8.3 in /usr/local/lib/python3.10/dist-packages (from langchain) (3.11.10)\n",
            "Requirement already satisfied: async-timeout<5.0.0,>=4.0.0 in /usr/local/lib/python3.10/dist-packages (from langchain) (4.0.3)\n",
            "Requirement already satisfied: langchain-core<0.4.0,>=0.3.29 in /usr/local/lib/python3.10/dist-packages (from langchain) (0.3.29)\n",
            "Requirement already satisfied: langchain-text-splitters<0.4.0,>=0.3.3 in /usr/local/lib/python3.10/dist-packages (from langchain) (0.3.3)\n",
            "Requirement already satisfied: langsmith<0.3,>=0.1.17 in /usr/local/lib/python3.10/dist-packages (from langchain) (0.2.3)\n",
            "Requirement already satisfied: numpy<2,>=1.22.4 in /usr/local/lib/python3.10/dist-packages (from langchain) (1.26.4)\n",
            "Requirement already satisfied: pydantic<3.0.0,>=2.7.4 in /usr/local/lib/python3.10/dist-packages (from langchain) (2.10.3)\n",
            "Requirement already satisfied: requests<3,>=2 in /usr/local/lib/python3.10/dist-packages (from langchain) (2.32.3)\n",
            "Requirement already satisfied: tenacity!=8.4.0,<10,>=8.1.0 in /usr/local/lib/python3.10/dist-packages (from langchain) (9.0.0)\n",
            "Requirement already satisfied: groq<1,>=0.4.1 in /usr/local/lib/python3.10/dist-packages (from langchain_groq) (0.13.1)\n",
            "Requirement already satisfied: dataclasses-json<0.7,>=0.5.7 in /usr/local/lib/python3.10/dist-packages (from langchain_community) (0.6.7)\n",
            "Requirement already satisfied: httpx-sse<0.5.0,>=0.4.0 in /usr/local/lib/python3.10/dist-packages (from langchain_community) (0.4.0)\n",
            "Requirement already satisfied: pydantic-settings<3.0.0,>=2.4.0 in /usr/local/lib/python3.10/dist-packages (from langchain_community) (2.7.1)\n",
            "Requirement already satisfied: aiohappyeyeballs>=2.3.0 in /usr/local/lib/python3.10/dist-packages (from aiohttp<4.0.0,>=3.8.3->langchain) (2.4.4)\n",
            "Requirement already satisfied: aiosignal>=1.1.2 in /usr/local/lib/python3.10/dist-packages (from aiohttp<4.0.0,>=3.8.3->langchain) (1.3.2)\n",
            "Requirement already satisfied: attrs>=17.3.0 in /usr/local/lib/python3.10/dist-packages (from aiohttp<4.0.0,>=3.8.3->langchain) (24.3.0)\n",
            "Requirement already satisfied: frozenlist>=1.1.1 in /usr/local/lib/python3.10/dist-packages (from aiohttp<4.0.0,>=3.8.3->langchain) (1.5.0)\n",
            "Requirement already satisfied: multidict<7.0,>=4.5 in /usr/local/lib/python3.10/dist-packages (from aiohttp<4.0.0,>=3.8.3->langchain) (6.1.0)\n",
            "Requirement already satisfied: propcache>=0.2.0 in /usr/local/lib/python3.10/dist-packages (from aiohttp<4.0.0,>=3.8.3->langchain) (0.2.1)\n",
            "Requirement already satisfied: yarl<2.0,>=1.17.0 in /usr/local/lib/python3.10/dist-packages (from aiohttp<4.0.0,>=3.8.3->langchain) (1.18.3)\n",
            "Requirement already satisfied: marshmallow<4.0.0,>=3.18.0 in /usr/local/lib/python3.10/dist-packages (from dataclasses-json<0.7,>=0.5.7->langchain_community) (3.23.3)\n",
            "Requirement already satisfied: typing-inspect<1,>=0.4.0 in /usr/local/lib/python3.10/dist-packages (from dataclasses-json<0.7,>=0.5.7->langchain_community) (0.9.0)\n",
            "Requirement already satisfied: anyio<5,>=3.5.0 in /usr/local/lib/python3.10/dist-packages (from groq<1,>=0.4.1->langchain_groq) (3.7.1)\n",
            "Requirement already satisfied: distro<2,>=1.7.0 in /usr/local/lib/python3.10/dist-packages (from groq<1,>=0.4.1->langchain_groq) (1.9.0)\n",
            "Requirement already satisfied: httpx<1,>=0.23.0 in /usr/local/lib/python3.10/dist-packages (from groq<1,>=0.4.1->langchain_groq) (0.28.1)\n",
            "Requirement already satisfied: sniffio in /usr/local/lib/python3.10/dist-packages (from groq<1,>=0.4.1->langchain_groq) (1.3.1)\n",
            "Requirement already satisfied: typing-extensions<5,>=4.10 in /usr/local/lib/python3.10/dist-packages (from groq<1,>=0.4.1->langchain_groq) (4.12.2)\n",
            "Requirement already satisfied: jsonpatch<2.0,>=1.33 in /usr/local/lib/python3.10/dist-packages (from langchain-core<0.4.0,>=0.3.29->langchain) (1.33)\n",
            "Requirement already satisfied: packaging<25,>=23.2 in /usr/local/lib/python3.10/dist-packages (from langchain-core<0.4.0,>=0.3.29->langchain) (24.2)\n",
            "Requirement already satisfied: orjson<4.0.0,>=3.9.14 in /usr/local/lib/python3.10/dist-packages (from langsmith<0.3,>=0.1.17->langchain) (3.10.12)\n",
            "Requirement already satisfied: requests-toolbelt<2.0.0,>=1.0.0 in /usr/local/lib/python3.10/dist-packages (from langsmith<0.3,>=0.1.17->langchain) (1.0.0)\n",
            "Requirement already satisfied: annotated-types>=0.6.0 in /usr/local/lib/python3.10/dist-packages (from pydantic<3.0.0,>=2.7.4->langchain) (0.7.0)\n",
            "Requirement already satisfied: pydantic-core==2.27.1 in /usr/local/lib/python3.10/dist-packages (from pydantic<3.0.0,>=2.7.4->langchain) (2.27.1)\n",
            "Requirement already satisfied: python-dotenv>=0.21.0 in /usr/local/lib/python3.10/dist-packages (from pydantic-settings<3.0.0,>=2.4.0->langchain_community) (1.0.1)\n",
            "Requirement already satisfied: charset-normalizer<4,>=2 in /usr/local/lib/python3.10/dist-packages (from requests<3,>=2->langchain) (3.4.0)\n",
            "Requirement already satisfied: idna<4,>=2.5 in /usr/local/lib/python3.10/dist-packages (from requests<3,>=2->langchain) (3.10)\n",
            "Requirement already satisfied: urllib3<3,>=1.21.1 in /usr/local/lib/python3.10/dist-packages (from requests<3,>=2->langchain) (2.2.3)\n",
            "Requirement already satisfied: certifi>=2017.4.17 in /usr/local/lib/python3.10/dist-packages (from requests<3,>=2->langchain) (2024.12.14)\n",
            "Requirement already satisfied: greenlet!=0.4.17 in /usr/local/lib/python3.10/dist-packages (from SQLAlchemy<3,>=1.4->langchain) (3.1.1)\n",
            "Requirement already satisfied: exceptiongroup in /usr/local/lib/python3.10/dist-packages (from anyio<5,>=3.5.0->groq<1,>=0.4.1->langchain_groq) (1.2.2)\n",
            "Requirement already satisfied: httpcore==1.* in /usr/local/lib/python3.10/dist-packages (from httpx<1,>=0.23.0->groq<1,>=0.4.1->langchain_groq) (1.0.7)\n",
            "Requirement already satisfied: h11<0.15,>=0.13 in /usr/local/lib/python3.10/dist-packages (from httpcore==1.*->httpx<1,>=0.23.0->groq<1,>=0.4.1->langchain_groq) (0.14.0)\n",
            "Requirement already satisfied: jsonpointer>=1.9 in /usr/local/lib/python3.10/dist-packages (from jsonpatch<2.0,>=1.33->langchain-core<0.4.0,>=0.3.29->langchain) (3.0.0)\n",
            "Requirement already satisfied: mypy-extensions>=0.3.0 in /usr/local/lib/python3.10/dist-packages (from typing-inspect<1,>=0.4.0->dataclasses-json<0.7,>=0.5.7->langchain_community) (1.0.0)\n"
          ]
        }
      ]
    },
    {
      "cell_type": "code",
      "source": [
        "from google.colab import userdata\n",
        "import os\n",
        "groq_api_key=userdata.get('Groq_API_Key')\n",
        "langchain_api_key=userdata.get('LangChain_API_Key')\n",
        "os.environ['LANGCHAIN_API_KEY'] = userdata.get('LangChain_API_Key')\n",
        "os.environ['GROQ_API_KEY']=userdata.get('Groq_API_Key')\n",
        "os.environ['LANGCHAIN_TRACING_V2']='true'\n",
        "os.environ['LANGCHAIN_PROJECT']='CourseLanggraph'"
      ],
      "metadata": {
        "id": "nmQWNX_Bi7kc"
      },
      "execution_count": 10,
      "outputs": []
    },
    {
      "cell_type": "code",
      "source": [
        "from langchain_groq import ChatGroq"
      ],
      "metadata": {
        "id": "HZ4lgozNjtBJ"
      },
      "execution_count": 11,
      "outputs": []
    },
    {
      "cell_type": "code",
      "source": [
        "llm=ChatGroq(groq_api_key=groq_api_key , model_name=\"gemma2-9b-it\")"
      ],
      "metadata": {
        "id": "frUMQFNzzh1D"
      },
      "execution_count": 13,
      "outputs": []
    },
    {
      "cell_type": "code",
      "source": [
        "llm"
      ],
      "metadata": {
        "colab": {
          "base_uri": "https://localhost:8080/"
        },
        "id": "hYpFOeWo0Csb",
        "outputId": "a3e7e05c-0be4-4f91-f8c9-203f00bf0fbf"
      },
      "execution_count": 14,
      "outputs": [
        {
          "output_type": "execute_result",
          "data": {
            "text/plain": [
              "ChatGroq(client=<groq.resources.chat.completions.Completions object at 0x78f6411131f0>, async_client=<groq.resources.chat.completions.AsyncCompletions object at 0x78f641111600>, model_name='gemma2-9b-it', model_kwargs={}, groq_api_key=SecretStr('**********'))"
            ]
          },
          "metadata": {},
          "execution_count": 14
        }
      ]
    },
    {
      "cell_type": "markdown",
      "source": [
        "## **Start Building Chabot using LangGraph**"
      ],
      "metadata": {
        "id": "1o-STGhf1XCj"
      }
    },
    {
      "cell_type": "code",
      "source": [
        "from typing import Annotated\n",
        "from typing_extensions import TypedDict\n",
        "from langgraph.graph import StateGraph , START , END\n",
        "from langgraph.graph.message import add_messages"
      ],
      "metadata": {
        "id": "oYQzY4Rx0IYU"
      },
      "execution_count": 21,
      "outputs": []
    },
    {
      "cell_type": "code",
      "source": [
        "class State(TypedDict):\n",
        "    messages:Annotated[list,add_messages]\n",
        "\n",
        "graph_builder=StateGraph(State)\n"
      ],
      "metadata": {
        "id": "-c1KNH6y14lW"
      },
      "execution_count": 22,
      "outputs": []
    },
    {
      "cell_type": "code",
      "source": [
        "graph_builder"
      ],
      "metadata": {
        "colab": {
          "base_uri": "https://localhost:8080/"
        },
        "id": "-D_reT4R39me",
        "outputId": "ea9b73da-80a3-403d-f335-95f9ba9d35a7"
      },
      "execution_count": 23,
      "outputs": [
        {
          "output_type": "execute_result",
          "data": {
            "text/plain": [
              "<langgraph.graph.state.StateGraph at 0x78f631003bb0>"
            ]
          },
          "metadata": {},
          "execution_count": 23
        }
      ]
    },
    {
      "cell_type": "code",
      "source": [
        "def chatbot(state:State):\n",
        "  return {\"messages\":llm.invoke(state['messages'])}\n"
      ],
      "metadata": {
        "id": "yjZPRFYl3-6r"
      },
      "execution_count": 24,
      "outputs": []
    },
    {
      "cell_type": "code",
      "source": [
        "graph_builder.add_node(\"chatbot\" , chatbot)"
      ],
      "metadata": {
        "colab": {
          "base_uri": "https://localhost:8080/"
        },
        "id": "y1rSRSIq7Odi",
        "outputId": "5ac0015a-cde8-463a-b854-a98225f2acb7"
      },
      "execution_count": 25,
      "outputs": [
        {
          "output_type": "execute_result",
          "data": {
            "text/plain": [
              "<langgraph.graph.state.StateGraph at 0x78f631003bb0>"
            ]
          },
          "metadata": {},
          "execution_count": 25
        }
      ]
    },
    {
      "cell_type": "code",
      "source": [
        "graph_builder.add_edge(START , \"chatbot\")\n",
        "graph_builder.add_edge(\"chatbot\" , END)"
      ],
      "metadata": {
        "colab": {
          "base_uri": "https://localhost:8080/"
        },
        "id": "usjmtWoU7UNl",
        "outputId": "e9279d5b-2364-4e29-d8ce-47f0725176f4"
      },
      "execution_count": 26,
      "outputs": [
        {
          "output_type": "execute_result",
          "data": {
            "text/plain": [
              "<langgraph.graph.state.StateGraph at 0x78f631003bb0>"
            ]
          },
          "metadata": {},
          "execution_count": 26
        }
      ]
    },
    {
      "cell_type": "code",
      "source": [
        "graph=graph_builder.compile()"
      ],
      "metadata": {
        "id": "SMO7KKM09yvh"
      },
      "execution_count": 27,
      "outputs": []
    },
    {
      "cell_type": "code",
      "source": [
        "from IPython.display import Image , display\n",
        "\n",
        "try:\n",
        "  display(Image(graph.get_graph().draw_mermaid_png()))\n",
        "except Exception:\n",
        "  pass"
      ],
      "metadata": {
        "colab": {
          "base_uri": "https://localhost:8080/",
          "height": 251
        },
        "id": "-0ZaVyBd-NwY",
        "outputId": "b253e2f6-cdeb-4f79-ae98-cc6b479c4038"
      },
      "execution_count": 28,
      "outputs": [
        {
          "output_type": "display_data",
          "data": {
            "image/png": "[encoded data removed]",
            "text/plain": [
              "<IPython.core.display.Image object>"
            ]
          },
          "metadata": {}
        }
      ]
    },
    {
      "cell_type": "code",
      "source": [
        "while True:\n",
        "  user_input=input(\"User :\")\n",
        "  if user_input.lower() in [\"quite\" , \"q\"]:\n",
        "    print(\"Good Bye\")\n",
        "    break\n",
        "  for event in graph.stream({'messages':('user' , user_input)}):\n",
        "    print(event.values())\n",
        "    for value in event.values():\n",
        "      print(value['messages'])\n",
        "      print(\"Assistant :\" , value[\"messages\"].content)\n"
      ],
      "metadata": {
        "colab": {
          "base_uri": "https://localhost:8080/"
        },
        "id": "d4Potwlx-qo4",
        "outputId": "33674bb2-e4fb-439c-e4de-b58b2e6005b0"
      },
      "execution_count": 30,
      "outputs": [
        {
          "output_type": "stream",
          "name": "stdout",
          "text": [
            "User :hello\n",
            "dict_values([{'messages': AIMessage(content='Hello! 👋  How can I help you today? 😄\\n', additional_kwargs={}, response_metadata={'token_usage': {'completion_tokens': 15, 'prompt_tokens': 10, 'total_tokens': 25, 'completion_time': 0.027272727, 'prompt_time': 4.1e-07, 'queue_time': 0.021464788000000002, 'total_time': 0.027273137}, 'model_name': 'gemma2-9b-it', 'system_fingerprint': 'fp_10c08bf97d', 'finish_reason': 'stop', 'logprobs': None}, id='run-00fb0314-fb14-4df4-aadc-083ea48876eb-0', usage_metadata={'input_tokens': 10, 'output_tokens': 15, 'total_tokens': 25})}])\n",
            "content='Hello! 👋  How can I help you today? 😄\\n' additional_kwargs={} response_metadata={'token_usage': {'completion_tokens': 15, 'prompt_tokens': 10, 'total_tokens': 25, 'completion_time': 0.027272727, 'prompt_time': 4.1e-07, 'queue_time': 0.021464788000000002, 'total_time': 0.027273137}, 'model_name': 'gemma2-9b-it', 'system_fingerprint': 'fp_10c08bf97d', 'finish_reason': 'stop', 'logprobs': None} id='run-00fb0314-fb14-4df4-aadc-083ea48876eb-0' usage_metadata={'input_tokens': 10, 'output_tokens': 15, 'total_tokens': 25}\n",
            "Assistant : Hello! 👋  How can I help you today? 😄\n",
            "\n",
            "User :who are you?\n",
            "dict_values([{'messages': AIMessage(content=\"I am Gemma, an open-weights AI assistant. I am a large language model trained by Google DeepMind.\\n\\nHere are some key things to know about me:\\n\\n* **Open-Weights:** My weights are publicly accessible. This means anyone can see and use the underlying code that makes me work.\\n* **Text-Only:** I can only understand and generate text. I can't process images, audio, or video.\\n* **Limited Knowledge:** I don't have access to real-time information or Google Search. My knowledge is based on the data I was trained on, which has a cutoff point.\\n\\nI'm here to help with a variety of tasks, such as:\\n\\n* **Generating creative content:**\\n\\nI can write stories, poems, articles, and more.\\n* **Answering questions:** I can provide information on a wide range of topics, based on my training data.\\n* **Summarizing text:** I can condense large amounts of text into shorter, more manageable summaries.\\n* **Translating languages:** I can translate text between different languages.\\n\\nKeep in mind that I am still under development and learning. I may not always be perfect, but I am always working to improve.\\n\", additional_kwargs={}, response_metadata={'token_usage': {'completion_tokens': 255, 'prompt_tokens': 13, 'total_tokens': 268, 'completion_time': 0.463636364, 'prompt_time': 6.995e-05, 'queue_time': 0.01990325, 'total_time': 0.463706314}, 'model_name': 'gemma2-9b-it', 'system_fingerprint': 'fp_10c08bf97d', 'finish_reason': 'stop', 'logprobs': None}, id='run-de698ef9-ee3b-4b7f-bc4d-4235ab760f95-0', usage_metadata={'input_tokens': 13, 'output_tokens': 255, 'total_tokens': 268})}])\n",
            "content=\"I am Gemma, an open-weights AI assistant. I am a large language model trained by Google DeepMind.\\n\\nHere are some key things to know about me:\\n\\n* **Open-Weights:** My weights are publicly accessible. This means anyone can see and use the underlying code that makes me work.\\n* **Text-Only:** I can only understand and generate text. I can't process images, audio, or video.\\n* **Limited Knowledge:** I don't have access to real-time information or Google Search. My knowledge is based on the data I was trained on, which has a cutoff point.\\n\\nI'm here to help with a variety of tasks, such as:\\n\\n* **Generating creative content:**\\n\\nI can write stories, poems, articles, and more.\\n* **Answering questions:** I can provide information on a wide range of topics, based on my training data.\\n* **Summarizing text:** I can condense large amounts of text into shorter, more manageable summaries.\\n* **Translating languages:** I can translate text between different languages.\\n\\nKeep in mind that I am still under development and learning. I may not always be perfect, but I am always working to improve.\\n\" additional_kwargs={} response_metadata={'token_usage': {'completion_tokens': 255, 'prompt_tokens': 13, 'total_tokens': 268, 'completion_time': 0.463636364, 'prompt_time': 6.995e-05, 'queue_time': 0.01990325, 'total_time': 0.463706314}, 'model_name': 'gemma2-9b-it', 'system_fingerprint': 'fp_10c08bf97d', 'finish_reason': 'stop', 'logprobs': None} id='run-de698ef9-ee3b-4b7f-bc4d-4235ab760f95-0' usage_metadata={'input_tokens': 13, 'output_tokens': 255, 'total_tokens': 268}\n",
            "Assistant : I am Gemma, an open-weights AI assistant. I am a large language model trained by Google DeepMind.\n",
            "\n",
            "Here are some key things to know about me:\n",
            "\n",
            "* **Open-Weights:** My weights are publicly accessible. This means anyone can see and use the underlying code that makes me work.\n",
            "* **Text-Only:** I can only understand and generate text. I can't process images, audio, or video.\n",
            "* **Limited Knowledge:** I don't have access to real-time information or Google Search. My knowledge is based on the data I was trained on, which has a cutoff point.\n",
            "\n",
            "I'm here to help with a variety of tasks, such as:\n",
            "\n",
            "* **Generating creative content:**\n",
            "\n",
            "I can write stories, poems, articles, and more.\n",
            "* **Answering questions:** I can provide information on a wide range of topics, based on my training data.\n",
            "* **Summarizing text:** I can condense large amounts of text into shorter, more manageable summaries.\n",
            "* **Translating languages:** I can translate text between different languages.\n",
            "\n",
            "Keep in mind that I am still under development and learning. I may not always be perfect, but I am always working to improve.\n",
            "\n",
            "User :what is GenAI\n",
            "dict_values([{'messages': AIMessage(content=\"GenAI stands for **Generative Artificial Intelligence**. \\n\\nIt's a type of AI that focuses on creating new content, rather than just analyzing existing data. Think of it like this:\\n\\n* **Traditional AI:**  Analyzes data to find patterns and make predictions (e.g., recommending products you might like).\\n* **GenAI:**  Uses learned patterns to generate new content (e.g., writing a poem, composing music, designing a logo).\\n\\n**Here are some key things to know about GenAI:**\\n\\n* **Training Data:** GenAI models are trained on massive datasets of text, code, images, audio, or other types of data. This allows them to learn the underlying patterns and structures of that data.\\n* **Generative Capabilities:** Once trained, GenAI models can generate new content that resembles the style and characteristics of the data they were trained on.\\n* **Applications:** GenAI has a wide range of applications, including:\\n    * **Text Generation:** Writing stories, articles, poems, dialogue, and more.\\n    * **Image Generation:** Creating realistic or artistic images from text descriptions.\\n    * **Code Generation:** Writing computer code in different programming languages.\\n    * **Music Composition:** Generating original musical pieces in various styles.\\n    * **Video Generation:** Creating short videos or animations.\\n\\n* **Examples of GenAI models:**\\n\\n    * **GPT-3 (text generation)**\\n    * **DALL-E 2 (image generation)**\\n    * **Stable Diffusion (image generation)**\\n    * **Jukebox (music generation)**\\n\\n**It's important to note that GenAI is still a rapidly evolving field, and there are ongoing discussions about its ethical implications, potential biases, and responsible use.**\\n\", additional_kwargs={}, response_metadata={'token_usage': {'completion_tokens': 369, 'prompt_tokens': 13, 'total_tokens': 382, 'completion_time': 0.670909091, 'prompt_time': 7.6939e-05, 'queue_time': 0.021531948, 'total_time': 0.67098603}, 'model_name': 'gemma2-9b-it', 'system_fingerprint': 'fp_10c08bf97d', 'finish_reason': 'stop', 'logprobs': None}, id='run-3a398e3c-b105-45ac-b7ea-be0c3f710a36-0', usage_metadata={'input_tokens': 13, 'output_tokens': 369, 'total_tokens': 382})}])\n",
            "content=\"GenAI stands for **Generative Artificial Intelligence**. \\n\\nIt's a type of AI that focuses on creating new content, rather than just analyzing existing data. Think of it like this:\\n\\n* **Traditional AI:**  Analyzes data to find patterns and make predictions (e.g., recommending products you might like).\\n* **GenAI:**  Uses learned patterns to generate new content (e.g., writing a poem, composing music, designing a logo).\\n\\n**Here are some key things to know about GenAI:**\\n\\n* **Training Data:** GenAI models are trained on massive datasets of text, code, images, audio, or other types of data. This allows them to learn the underlying patterns and structures of that data.\\n* **Generative Capabilities:** Once trained, GenAI models can generate new content that resembles the style and characteristics of the data they were trained on.\\n* **Applications:** GenAI has a wide range of applications, including:\\n    * **Text Generation:** Writing stories, articles, poems, dialogue, and more.\\n    * **Image Generation:** Creating realistic or artistic images from text descriptions.\\n    * **Code Generation:** Writing computer code in different programming languages.\\n    * **Music Composition:** Generating original musical pieces in various styles.\\n    * **Video Generation:** Creating short videos or animations.\\n\\n* **Examples of GenAI models:**\\n\\n    * **GPT-3 (text generation)**\\n    * **DALL-E 2 (image generation)**\\n    * **Stable Diffusion (image generation)**\\n    * **Jukebox (music generation)**\\n\\n**It's important to note that GenAI is still a rapidly evolving field, and there are ongoing discussions about its ethical implications, potential biases, and responsible use.**\\n\" additional_kwargs={} response_metadata={'token_usage': {'completion_tokens': 369, 'prompt_tokens': 13, 'total_tokens': 382, 'completion_time': 0.670909091, 'prompt_time': 7.6939e-05, 'queue_time': 0.021531948, 'total_time': 0.67098603}, 'model_name': 'gemma2-9b-it', 'system_fingerprint': 'fp_10c08bf97d', 'finish_reason': 'stop', 'logprobs': None} id='run-3a398e3c-b105-45ac-b7ea-be0c3f710a36-0' usage_metadata={'input_tokens': 13, 'output_tokens': 369, 'total_tokens': 382}\n",
            "Assistant : GenAI stands for **Generative Artificial Intelligence**. \n",
            "\n",
            "It's a type of AI that focuses on creating new content, rather than just analyzing existing data. Think of it like this:\n",
            "\n",
            "* **Traditional AI:**  Analyzes data to find patterns and make predictions (e.g., recommending products you might like).\n",
            "* **GenAI:**  Uses learned patterns to generate new content (e.g., writing a poem, composing music, designing a logo).\n",
            "\n",
            "**Here are some key things to know about GenAI:**\n",
            "\n",
            "* **Training Data:** GenAI models are trained on massive datasets of text, code, images, audio, or other types of data. This allows them to learn the underlying patterns and structures of that data.\n",
            "* **Generative Capabilities:** Once trained, GenAI models can generate new content that resembles the style and characteristics of the data they were trained on.\n",
            "* **Applications:** GenAI has a wide range of applications, including:\n",
            "    * **Text Generation:** Writing stories, articles, poems, dialogue, and more.\n",
            "    * **Image Generation:** Creating realistic or artistic images from text descriptions.\n",
            "    * **Code Generation:** Writing computer code in different programming languages.\n",
            "    * **Music Composition:** Generating original musical pieces in various styles.\n",
            "    * **Video Generation:** Creating short videos or animations.\n",
            "\n",
            "* **Examples of GenAI models:**\n",
            "\n",
            "    * **GPT-3 (text generation)**\n",
            "    * **DALL-E 2 (image generation)**\n",
            "    * **Stable Diffusion (image generation)**\n",
            "    * **Jukebox (music generation)**\n",
            "\n",
            "**It's important to note that GenAI is still a rapidly evolving field, and there are ongoing discussions about its ethical implications, potential biases, and responsible use.**\n",
            "\n",
            "User :who won the cricket world cup in 2011\n",
            "dict_values([{'messages': AIMessage(content='**India** won the Cricket World Cup in 2011.  \\n', additional_kwargs={}, response_metadata={'token_usage': {'completion_tokens': 19, 'prompt_tokens': 21, 'total_tokens': 40, 'completion_time': 0.034545455, 'prompt_time': 0.0001328, 'queue_time': 0.020787558, 'total_time': 0.034678255}, 'model_name': 'gemma2-9b-it', 'system_fingerprint': 'fp_10c08bf97d', 'finish_reason': 'stop', 'logprobs': None}, id='run-913fde89-973c-417c-af0f-9c9f388456ae-0', usage_metadata={'input_tokens': 21, 'output_tokens': 19, 'total_tokens': 40})}])\n",
            "content='**India** won the Cricket World Cup in 2011.  \\n' additional_kwargs={} response_metadata={'token_usage': {'completion_tokens': 19, 'prompt_tokens': 21, 'total_tokens': 40, 'completion_time': 0.034545455, 'prompt_time': 0.0001328, 'queue_time': 0.020787558, 'total_time': 0.034678255}, 'model_name': 'gemma2-9b-it', 'system_fingerprint': 'fp_10c08bf97d', 'finish_reason': 'stop', 'logprobs': None} id='run-913fde89-973c-417c-af0f-9c9f388456ae-0' usage_metadata={'input_tokens': 21, 'output_tokens': 19, 'total_tokens': 40}\n",
            "Assistant : **India** won the Cricket World Cup in 2011.  \n",
            "\n",
            "User :who was the captain \n",
            "dict_values([{'messages': AIMessage(content='Please provide me with more context! \\n\\nWho is the \"captain\" of?  \\n\\nFor example, you could ask:\\n\\n* Who was the captain of the Titanic?\\n* Who was the captain of the US women\\'s soccer team in the 2019 World Cup?\\n* Who is the captain of the Starship Enterprise in the original series? \\n\\n\\nOnce you tell me what you\\'re interested in, I can give you the answer! \\n', additional_kwargs={}, response_metadata={'token_usage': {'completion_tokens': 99, 'prompt_tokens': 14, 'total_tokens': 113, 'completion_time': 0.18, 'prompt_time': 7.4649e-05, 'queue_time': 0.020312841, 'total_time': 0.180074649}, 'model_name': 'gemma2-9b-it', 'system_fingerprint': 'fp_10c08bf97d', 'finish_reason': 'stop', 'logprobs': None}, id='run-7fc4a2d6-3b7f-4e95-bc38-d5752deba063-0', usage_metadata={'input_tokens': 14, 'output_tokens': 99, 'total_tokens': 113})}])\n",
            "content='Please provide me with more context! \\n\\nWho is the \"captain\" of?  \\n\\nFor example, you could ask:\\n\\n* Who was the captain of the Titanic?\\n* Who was the captain of the US women\\'s soccer team in the 2019 World Cup?\\n* Who is the captain of the Starship Enterprise in the original series? \\n\\n\\nOnce you tell me what you\\'re interested in, I can give you the answer! \\n' additional_kwargs={} response_metadata={'token_usage': {'completion_tokens': 99, 'prompt_tokens': 14, 'total_tokens': 113, 'completion_time': 0.18, 'prompt_time': 7.4649e-05, 'queue_time': 0.020312841, 'total_time': 0.180074649}, 'model_name': 'gemma2-9b-it', 'system_fingerprint': 'fp_10c08bf97d', 'finish_reason': 'stop', 'logprobs': None} id='run-7fc4a2d6-3b7f-4e95-bc38-d5752deba063-0' usage_metadata={'input_tokens': 14, 'output_tokens': 99, 'total_tokens': 113}\n",
            "Assistant : Please provide me with more context! \n",
            "\n",
            "Who is the \"captain\" of?  \n",
            "\n",
            "For example, you could ask:\n",
            "\n",
            "* Who was the captain of the Titanic?\n",
            "* Who was the captain of the US women's soccer team in the 2019 World Cup?\n",
            "* Who is the captain of the Starship Enterprise in the original series? \n",
            "\n",
            "\n",
            "Once you tell me what you're interested in, I can give you the answer! \n",
            "\n",
            "User :who was the captain of indian team at that time\n",
            "dict_values([{'messages': AIMessage(content=\"Please provide me with the context! \\n\\nTo tell you who the captain of the Indian team was, I need to know:\\n\\n* **What sport are you referring to?** (Cricket, football, hockey, etc.)\\n* **What time period are you interested in?** (A specific year, tournament, or era)\\n\\n\\nLet me know, and I'll be happy to help! \\n\", additional_kwargs={}, response_metadata={'token_usage': {'completion_tokens': 86, 'prompt_tokens': 19, 'total_tokens': 105, 'completion_time': 0.156363636, 'prompt_time': 7.489e-05, 'queue_time': 0.018985857999999998, 'total_time': 0.156438526}, 'model_name': 'gemma2-9b-it', 'system_fingerprint': 'fp_10c08bf97d', 'finish_reason': 'stop', 'logprobs': None}, id='run-d563ad53-bfa5-4f77-ac63-67d3ad9f25f0-0', usage_metadata={'input_tokens': 19, 'output_tokens': 86, 'total_tokens': 105})}])\n",
            "content=\"Please provide me with the context! \\n\\nTo tell you who the captain of the Indian team was, I need to know:\\n\\n* **What sport are you referring to?** (Cricket, football, hockey, etc.)\\n* **What time period are you interested in?** (A specific year, tournament, or era)\\n\\n\\nLet me know, and I'll be happy to help! \\n\" additional_kwargs={} response_metadata={'token_usage': {'completion_tokens': 86, 'prompt_tokens': 19, 'total_tokens': 105, 'completion_time': 0.156363636, 'prompt_time': 7.489e-05, 'queue_time': 0.018985857999999998, 'total_time': 0.156438526}, 'model_name': 'gemma2-9b-it', 'system_fingerprint': 'fp_10c08bf97d', 'finish_reason': 'stop', 'logprobs': None} id='run-d563ad53-bfa5-4f77-ac63-67d3ad9f25f0-0' usage_metadata={'input_tokens': 19, 'output_tokens': 86, 'total_tokens': 105}\n",
            "Assistant : Please provide me with the context! \n",
            "\n",
            "To tell you who the captain of the Indian team was, I need to know:\n",
            "\n",
            "* **What sport are you referring to?** (Cricket, football, hockey, etc.)\n",
            "* **What time period are you interested in?** (A specific year, tournament, or era)\n",
            "\n",
            "\n",
            "Let me know, and I'll be happy to help! \n",
            "\n",
            "User :who was the captain of indian team when india won teh cricket world cup in 2011\n",
            "dict_values([{'messages': AIMessage(content='The captain of the Indian team when India won the Cricket World Cup in 2011 was **MS Dhoni**. \\n', additional_kwargs={}, response_metadata={'token_usage': {'completion_tokens': 28, 'prompt_tokens': 29, 'total_tokens': 57, 'completion_time': 0.050909091, 'prompt_time': 0.000133509, 'queue_time': 0.019289469, 'total_time': 0.0510426}, 'model_name': 'gemma2-9b-it', 'system_fingerprint': 'fp_10c08bf97d', 'finish_reason': 'stop', 'logprobs': None}, id='run-30925e2a-862f-4e79-869b-e8855e4c56e9-0', usage_metadata={'input_tokens': 29, 'output_tokens': 28, 'total_tokens': 57})}])\n",
            "content='The captain of the Indian team when India won the Cricket World Cup in 2011 was **MS Dhoni**. \\n' additional_kwargs={} response_metadata={'token_usage': {'completion_tokens': 28, 'prompt_tokens': 29, 'total_tokens': 57, 'completion_time': 0.050909091, 'prompt_time': 0.000133509, 'queue_time': 0.019289469, 'total_time': 0.0510426}, 'model_name': 'gemma2-9b-it', 'system_fingerprint': 'fp_10c08bf97d', 'finish_reason': 'stop', 'logprobs': None} id='run-30925e2a-862f-4e79-869b-e8855e4c56e9-0' usage_metadata={'input_tokens': 29, 'output_tokens': 28, 'total_tokens': 57}\n",
            "Assistant : The captain of the Indian team when India won the Cricket World Cup in 2011 was **MS Dhoni**. \n",
            "\n",
            "User :q\n",
            "Good Bye\n"
          ]
        }
      ]
    },
    {
      "cell_type": "code",
      "source": [],
      "metadata": {
        "id": "YxNa1oTbAzSo"
      },
      "execution_count": null,
      "outputs": []
    }
  ]
}